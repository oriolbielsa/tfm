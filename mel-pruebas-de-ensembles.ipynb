{
 "cells": [
  {
   "cell_type": "markdown",
   "metadata": {
    "_cell_guid": "b1076dfc-b9ad-4769-8c92-a6c4dae69d19",
    "_uuid": "8f2839f25d086af736a60e9eeb907d3b93b6e0e5",
    "papermill": {
     "duration": 0.00705,
     "end_time": "2023-01-03T09:35:02.003699",
     "exception": false,
     "start_time": "2023-01-03T09:35:01.996649",
     "status": "completed"
    },
    "tags": []
   },
   "source": [
    "# Notebook para crear submission Ensembles"
   ]
  },
  {
   "cell_type": "markdown",
   "metadata": {
    "papermill": {
     "duration": 0.005388,
     "end_time": "2023-01-03T09:35:02.015156",
     "exception": false,
     "start_time": "2023-01-03T09:35:02.009768",
     "status": "completed"
    },
    "tags": []
   },
   "source": [
    "Notebook para realizar Ensembles basados en la combinación de distintas submissions basadas en distintos modelos.\n",
    "1. En el fichero *ensemble_results.csv* se puede observar el detalle y resultados finales.\n",
    "2. En el dataset *submissions-melanoma* de kaggle se encuentran descargadas las submissions individuales que componen el ensemble (https://www.kaggle.com/datasets/oriolbielsa/submissions-melanoma/)\n",
    "3. El notebook genera los siguientes Outputs:\n",
    " - ensemble_*.csv -> Ensemble únicamente con modelos CNN\n",
    " - CNN_simple_*.csv -> Ensemble de CNN más modelo tabular simple\n",
    " - CNN_xgb_*.csv -> Ensemble de CNN más modelo tabular XGBoost"
   ]
  },
  {
   "cell_type": "markdown",
   "metadata": {
    "papermill": {
     "duration": 0.005384,
     "end_time": "2023-01-03T09:35:02.026268",
     "exception": false,
     "start_time": "2023-01-03T09:35:02.020884",
     "status": "completed"
    },
    "tags": []
   },
   "source": [
    "#### Dataset *submissions-melanoma* contiene:\n",
    "\n",
    "**ENS1 - Ensemble Backbones EfficientNet**\n",
    "- TTA_11 - 384x384x3 - EfficientNetB6\n",
    "- TTA_19 - 384x384x3 - EfficientNetB7\n",
    "- TTA_20 - 384x384x3 - EfficientNetB5\n",
    "- TTA_21 - 384x384x3 - EfficientNetB4\n",
    "- TTA_22 - 384x384x3 - EfficientNetB3\n",
    "- TTA_23 - 384x384x3 - EfficientNetB2\n",
    "- TTA_24 - 384x384x3 - EfficientNetB1\n",
    "- TTA_25 - 384x384x3 - EfficientNetB0\n",
    "\n",
    "**ENS2 - Ensemble EfficientNet B6 con distintos tamaños**\n",
    "- TTA_11 - 384x384x3 - EfficientNetB6\n",
    "- TTA_12 - 512x512x3 - EfficientNetB6\n",
    "- TTA_16 - 768x768x3 - EfficientNetB6\n",
    "- TTA_17 - 768x768x3 - EfficientNetB6\n",
    "- TTA_18 - 1024x1024x3 - EfficientNetB6\n",
    "\n",
    "**ENS3 - Ensemble EfficientNet B6 con distintos tamaños - mejorado con datos externos**\n",
    "- TTA_56 - 512x512x3 - EfficientNetB6\n",
    "- TTA_67 - 768x768x3 - EfficientNetB6\n",
    "- TTA_90 - 384x384x3 - EfficientNetB6\n",
    "- TTA_93 - 1024x1024x3 - EfficientNetB6\n"
   ]
  },
  {
   "cell_type": "code",
   "execution_count": 1,
   "metadata": {
    "_cell_guid": "79c7e3d0-c299-4dcb-8224-4455121ee9b0",
    "_uuid": "d629ff2d2480ee46fbb7e2d37f6b5fab8052498a",
    "execution": {
     "iopub.execute_input": "2023-01-03T09:35:02.041984Z",
     "iopub.status.busy": "2023-01-03T09:35:02.040925Z",
     "iopub.status.idle": "2023-01-03T09:35:02.045401Z",
     "shell.execute_reply": "2023-01-03T09:35:02.046019Z",
     "shell.execute_reply.started": "2023-01-03T09:09:26.506797Z"
    },
    "papermill": {
     "duration": 0.014186,
     "end_time": "2023-01-03T09:35:02.046197",
     "exception": false,
     "start_time": "2023-01-03T09:35:02.032011",
     "status": "completed"
    },
    "tags": []
   },
   "outputs": [],
   "source": [
    "# Importamos librerías\n",
    "import pandas as pd\n",
    "import numpy as np"
   ]
  },
  {
   "cell_type": "code",
   "execution_count": 2,
   "metadata": {
    "execution": {
     "iopub.execute_input": "2023-01-03T09:35:02.061672Z",
     "iopub.status.busy": "2023-01-03T09:35:02.060685Z",
     "iopub.status.idle": "2023-01-03T09:35:02.068720Z",
     "shell.execute_reply": "2023-01-03T09:35:02.069293Z",
     "shell.execute_reply.started": "2023-01-03T09:18:15.135436Z"
    },
    "papermill": {
     "duration": 0.017496,
     "end_time": "2023-01-03T09:35:02.069453",
     "exception": false,
     "start_time": "2023-01-03T09:35:02.051957",
     "status": "completed"
    },
    "tags": []
   },
   "outputs": [],
   "source": [
    "# Función auxiliar para generar ficheros de predicciones de test en ensembles\n",
    "\n",
    "def create_ensemble_sub(sub_list,weight,sub_name='ensemble',detail=False):\n",
    "    # Input: sub_list: array con nombre de CSV de submission; weight: array con los pesos a aplicar para cada sub; \n",
    "    #        sub_name: nombre de ensemble resultante; detail: Flag para detallar el nombre de cada fichero en submission;\n",
    "    # Output: Genera fichero sub_name + detalle de cada fichero que lo conforma (si flag detail a True)\n",
    "        \n",
    "    # Inicializamos variable final\n",
    "    sub_files = ['../input/submissions-melanoma/submission_' + sub + '.csv' for sub in sub_list]\n",
    "    ensemble_sub = pd.read_csv(sub_files[0])\n",
    "    \n",
    "    # Iteramos para cada fichero\n",
    "    for sub_file, w in zip (sub_files, weight):\n",
    "        sub = pd.read_csv(sub_file)\n",
    "        ensemble_sub.target = ensemble_sub.target + w*sub.target.values\n",
    "\n",
    "    # Finalmente creamos csv\n",
    "    if detail: ensemble_name = sub_name + '_' + '-'.join(sub_list) + '.csv'\n",
    "    ensemble_name = sub_name + '.csv'\n",
    "    ensemble_sub.to_csv(ensemble_name,index=False)\n"
   ]
  },
  {
   "cell_type": "code",
   "execution_count": 3,
   "metadata": {
    "execution": {
     "iopub.execute_input": "2023-01-03T09:35:02.084690Z",
     "iopub.status.busy": "2023-01-03T09:35:02.083731Z",
     "iopub.status.idle": "2023-01-03T09:35:02.890034Z",
     "shell.execute_reply": "2023-01-03T09:35:02.889218Z"
    },
    "papermill": {
     "duration": 0.815005,
     "end_time": "2023-01-03T09:35:02.890187",
     "exception": false,
     "start_time": "2023-01-03T09:35:02.075182",
     "status": "completed"
    },
    "tags": []
   },
   "outputs": [],
   "source": [
    "# Ejemplo Ensemble para ENS1\n",
    "\n",
    "# Definimos lista de submissions que van a conformar el ensemble\n",
    "sub_list = ['TTA_11', 'TTA_19', 'TTA_20', 'TTA_21', 'TTA_22', 'TTA_23', 'TTA_24', 'TTA_25', 'simple', 'xgb']\n",
    "\n",
    "# Indicamos matriz de pesos a asignar a cada uno de los componentes del ensemble, deben sumar 1\n",
    "weight = [0.2, 0.1, 0.1, 0.1, 0.1, 0.1, 0.1, 0.1, 0, 0]\n",
    "# Creamos csv para submitir un ensemble de los modelos CNN\n",
    "create_ensemble_sub(sub_list,weight,'CNN_ENS1')\n",
    "\n",
    "# Repetimos con modelo simple tabular\n",
    "weight = [0.2, 0.1, 0.1, 0.1, 0.1, 0.1, 0.1, 0.1, 0.1, 0]\n",
    "create_ensemble_sub(sub_list,weight,'CNN_simple_ENS1')\n",
    "\n",
    "# Repetimos con modelo xgb tabular\n",
    "weight = [0.2, 0.1, 0.1, 0.1, 0.1, 0.1, 0.1, 0.1, 0, 0.1]\n",
    "create_ensemble_sub(sub_list,weight,'CNN_xgb_ENS1')"
   ]
  },
  {
   "cell_type": "code",
   "execution_count": 4,
   "metadata": {
    "execution": {
     "iopub.execute_input": "2023-01-03T09:35:02.910691Z",
     "iopub.status.busy": "2023-01-03T09:35:02.909985Z",
     "iopub.status.idle": "2023-01-03T09:35:03.279986Z",
     "shell.execute_reply": "2023-01-03T09:35:03.279339Z"
    },
    "papermill": {
     "duration": 0.383819,
     "end_time": "2023-01-03T09:35:03.280141",
     "exception": false,
     "start_time": "2023-01-03T09:35:02.896322",
     "status": "completed"
    },
    "tags": []
   },
   "outputs": [],
   "source": [
    "# Ejemplo Ensemble para ENS2\n",
    "\n",
    "# Definimos lista de submissions que van a conformar el ensemble\n",
    "sub_list = ['TTA_11', 'TTA_12', 'TTA_16', 'TTA_17', 'TTA_18','simple', 'xgb']\n",
    "\n",
    "# Indicamos matriz de pesos a asignar a cada uno de los componentes del ensemble, deben sumar 1\n",
    "weight = [0.166, 0.166, 0.166, 0.166, 0, 0]\n",
    "# Creamos csv para submitir un ensemble de los modelos CNN\n",
    "create_ensemble_sub(sub_list,weight,'CNN_ENS2')\n",
    "\n",
    "# Repetimos con modelo simple tabular\n",
    "weight = [0.166, 0.166, 0.166, 0.166, 0.17, 0]\n",
    "create_ensemble_sub(sub_list,weight,'CNN_simple_ENS2')\n",
    "\n",
    "# Repetimos con modelo xgb tabular\n",
    "weight = [0.166, 0.166, 0.166, 0.166, 0, 0.17]\n",
    "create_ensemble_sub(sub_list,weight,'CNN_xgb_ENS2')"
   ]
  },
  {
   "cell_type": "code",
   "execution_count": 5,
   "metadata": {
    "execution": {
     "iopub.execute_input": "2023-01-03T09:35:03.302220Z",
     "iopub.status.busy": "2023-01-03T09:35:03.301559Z",
     "iopub.status.idle": "2023-01-03T09:35:03.653655Z",
     "shell.execute_reply": "2023-01-03T09:35:03.654165Z",
     "shell.execute_reply.started": "2023-01-03T09:18:35.051976Z"
    },
    "papermill": {
     "duration": 0.36767,
     "end_time": "2023-01-03T09:35:03.654349",
     "exception": false,
     "start_time": "2023-01-03T09:35:03.286679",
     "status": "completed"
    },
    "tags": []
   },
   "outputs": [],
   "source": [
    "# Ejemplo Ensemble para ENS3\n",
    "\n",
    "# Definimos lista de submissions que van a conformar el ensemble\n",
    "sub_list = ['TTA_90', 'TTA_56', 'TTA_67', 'TTA_93', 'simple', 'xgb']\n",
    "\n",
    "# Indicamos matriz de pesos a asignar a cada uno de los componentes del ensemble, deben sumar 1\n",
    "weight = [0.15, 0.15, 0.15, 0.15, 0, 0]\n",
    "# Creamos csv para submitir un ensemble de los modelos CNN\n",
    "create_ensemble_sub(sub_list,weight,'CNN_ENS3')\n",
    "\n",
    "# Repetimos con modelo simple tabular\n",
    "weight = [0.15, 0.15, 0.15, 0.15, 0.4, 0]\n",
    "create_ensemble_sub(sub_list,weight,'CNN_simple_ENS3')\n",
    "\n",
    "# Repetimos con modelo xgb tabular\n",
    "weight = [0.15, 0.15, 0.15, 0.15, 0, 0.4]\n",
    "create_ensemble_sub(sub_list,weight,'CNN_xgb_ENS3')"
   ]
  }
 ],
 "metadata": {
  "kernelspec": {
   "display_name": "Python 3",
   "language": "python",
   "name": "python3"
  },
  "language_info": {
   "codemirror_mode": {
    "name": "ipython",
    "version": 3
   },
   "file_extension": ".py",
   "mimetype": "text/x-python",
   "name": "python",
   "nbconvert_exporter": "python",
   "pygments_lexer": "ipython3",
   "version": "3.7.6"
  },
  "papermill": {
   "duration": 6.195982,
   "end_time": "2023-01-03T09:35:03.767810",
   "environment_variables": {},
   "exception": null,
   "input_path": "__notebook__.ipynb",
   "output_path": "__notebook__.ipynb",
   "parameters": {},
   "start_time": "2023-01-03T09:34:57.571828",
   "version": "2.1.0"
  }
 },
 "nbformat": 4,
 "nbformat_minor": 4
}
